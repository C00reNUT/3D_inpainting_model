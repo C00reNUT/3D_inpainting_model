version https://git-lfs.github.com/spec/v1
oid sha256:5d6cb1d63ea0bc7ba5a8079663052f7b2e2ffff03c4fa626a750ec16f58f1d74
size 8020
